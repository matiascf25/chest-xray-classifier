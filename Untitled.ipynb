{
 "cells": [
  {
   "cell_type": "code",
   "execution_count": 1,
   "id": "2b53e3aa-aef7-46f2-830d-f65dc0394a6a",
   "metadata": {},
   "outputs": [
    {
     "name": "stdout",
     "output_type": "stream",
     "text": [
      "Duplicados exactos train↔test: 387\n",
      "Ejemplo: person100_bacteria_480.jpeg <-> BACTERIA-6950003-0005.jpeg\n",
      "Ejemplo: person1662_virus_2875.jpeg <-> person1662_virus_2875.jpeg\n",
      "Ejemplo: person3_virus_17.jpeg <-> person3_virus_17.jpeg\n",
      "Ejemplo: person108_bacteria_507.jpeg <-> BACTERIA-3961172-0003.jpeg\n",
      "Ejemplo: person113_bacteria_541.jpeg <-> BACTERIA-5240350-0002.jpeg\n",
      "Ejemplo: person109_bacteria_528.jpeg <-> BACTERIA-4269599-0009.jpeg\n",
      "Ejemplo: person130_bacteria_625.jpeg <-> BACTERIA-8190872-0002.jpeg\n",
      "Ejemplo: person83_bacteria_407.jpeg <-> BACTERIA-9242636-0001.jpeg\n",
      "Ejemplo: person55_virus_110.jpeg <-> person55_virus_110.jpeg\n",
      "Ejemplo: person15_virus_46.jpeg <-> person15_virus_46.jpeg\n",
      "Duplicados dentro de TRAIN: 1364 | dentro de TEST: 556\n",
      "Conflictos de etiqueta (misma imagen con clases distintas): 0\n"
     ]
    }
   ],
   "source": [
    "# === Auditoría de duplicados exactos por hash (evita fuga train↔test) ===\n",
    "from pathlib import Path\n",
    "import hashlib\n",
    "from collections import defaultdict\n",
    "\n",
    "DATA_ROOT = Path(\"data/chest_xray\")  # ajusta si usas otra carpeta\n",
    "\n",
    "def sha256_of_file(p: Path, chunk=1<<20) -> str:\n",
    "    h = hashlib.sha256()\n",
    "    with open(p, \"rb\") as f:\n",
    "        for b in iter(lambda: f.read(chunk), b\"\"):\n",
    "            h.update(b)\n",
    "    return h.hexdigest()\n",
    "\n",
    "def iter_split(split):\n",
    "    for cls in [\"NORMAL\", \"PNEUMONIA\"]:\n",
    "        d = DATA_ROOT/split/cls\n",
    "        if d.exists():\n",
    "            for p in d.glob(\"*\"):\n",
    "                if p.is_file():\n",
    "                    yield p, cls\n",
    "\n",
    "def build_index(split):\n",
    "    idx = defaultdict(list)  # hash -> list[(path, cls)]\n",
    "    for p, cls in iter_split(split):\n",
    "        try:\n",
    "            h = sha256_of_file(p)\n",
    "            idx[h].append((p, cls))\n",
    "        except Exception as e:\n",
    "            print(f\"⚠️ No pude leer {p}: {e}\")\n",
    "    return idx\n",
    "\n",
    "train_idx = build_index(\"train\")\n",
    "test_idx  = build_index(\"test\")\n",
    "\n",
    "overlap = set(train_idx) & set(test_idx)\n",
    "print(f\"Duplicados exactos train↔test: {len(overlap)}\")\n",
    "\n",
    "# Ejemplos\n",
    "for i, h in enumerate(list(overlap)[:10]):\n",
    "    print(\"Ejemplo:\", train_idx[h][0][0].name, \"<->\", test_idx[h][0][0].name)\n",
    "\n",
    "# Duplicados dentro de cada split (mismo archivo repetido)\n",
    "train_dups_intra = {h:v for h,v in train_idx.items() if len(v) > 1}\n",
    "test_dups_intra  = {h:v for h,v in test_idx.items()  if len(v) > 1}\n",
    "print(f\"Duplicados dentro de TRAIN: {len(train_dups_intra)} | dentro de TEST: {len(test_dups_intra)}\")\n",
    "\n",
    "# Conflictos de etiqueta (misma imagen con NORMAL y PNEUMONIA en algún split)\n",
    "conflicts = []\n",
    "for h in overlap:\n",
    "    labs = {c for _,c in train_idx[h]} | {c for _,c in test_idx[h]}\n",
    "    if len(labs) > 1:\n",
    "        conflicts.append(h)\n",
    "print(f\"Conflictos de etiqueta (misma imagen con clases distintas): {len(conflicts)}\")\n"
   ]
  },
  {
   "cell_type": "code",
   "execution_count": 2,
   "id": "b71c9040-623c-45ad-a8dc-4f2847ce8949",
   "metadata": {},
   "outputs": [
    {
     "name": "stdout",
     "output_type": "stream",
     "text": [
      "Movidos de TEST (presentes en TRAIN): 780\n"
     ]
    }
   ],
   "source": [
    "import shutil\n",
    "QUAR = Path(\"data/_quarantine_dups\"); QUAR.mkdir(parents=True, exist_ok=True)\n",
    "\n",
    "moved = 0\n",
    "# a) quitar de TEST los que están en TRAIN\n",
    "for h in set(train_idx) & set(test_idx):\n",
    "    for p, cls in test_idx[h]:\n",
    "        dst = QUAR / p.name\n",
    "        shutil.move(str(p), str(dst))\n",
    "        moved += 1\n",
    "print(f\"Movidos de TEST (presentes en TRAIN): {moved}\")\n",
    "\n",
    "# b) opcional: desduplicar dentro de cada split dejando una copia\n",
    "def dedup_intra(idx, split):\n",
    "    removed = 0\n",
    "    for h, items in idx.items():\n",
    "        if len(items) > 1:\n",
    "            # conserva la primera, mueve el resto\n",
    "            for p, cls in items[1:]:\n",
    "                dst = QUAR / p.name\n",
    "                shutil.move(str(p), str(dst))\n",
    "                removed += 1\n",
    "    print(f\"Eliminados duplicados intra-split en {split}: {removed}\")\n",
    "\n",
    "# Descomenta si quieres limpiar intra-split\n",
    "# dedup_intra(train_idx, \"TRAIN\")\n",
    "# dedup_intra(test_idx,  \"TEST\")"
   ]
  },
  {
   "cell_type": "code",
   "execution_count": null,
   "id": "b72f0a9d-e683-45f1-bbfd-e0efeca0a0be",
   "metadata": {},
   "outputs": [],
   "source": []
  }
 ],
 "metadata": {
  "kernelspec": {
   "display_name": "Python 3 (ipykernel)",
   "language": "python",
   "name": "python3"
  },
  "language_info": {
   "codemirror_mode": {
    "name": "ipython",
    "version": 3
   },
   "file_extension": ".py",
   "mimetype": "text/x-python",
   "name": "python",
   "nbconvert_exporter": "python",
   "pygments_lexer": "ipython3",
   "version": "3.10.18"
  }
 },
 "nbformat": 4,
 "nbformat_minor": 5
}
